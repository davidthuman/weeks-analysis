{
 "cells": [
  {
   "attachments": {},
   "cell_type": "markdown",
   "metadata": {},
   "source": [
    "Processing Database"
   ]
  },
  {
   "cell_type": "code",
   "execution_count": 4,
   "metadata": {},
   "outputs": [],
   "source": [
    "import src.notion_API as notion\n",
    "import src.pocketbase_API as pocket\n",
    "from typing import  Callable"
   ]
  },
  {
   "cell_type": "code",
   "execution_count": 5,
   "metadata": {},
   "outputs": [],
   "source": [
    "def get_all(getFunction: Callable[[dict, bool], any], params: dict):\n",
    "\n",
    "    all_params = {'perPage': 500}\n",
    "    all_params.update(params)\n",
    "    first = getFunction(all_params, full=True).json()\n",
    "    items = first['items']\n",
    "    for page in range(1,first['totalPages']):\n",
    "        all_params.update({'page': (page+1)})\n",
    "        output = getFunction(all_params, full=True).json()\n",
    "        items = items + output['items']\n",
    "\n",
    "    return items"
   ]
  },
  {
   "cell_type": "code",
   "execution_count": 6,
   "metadata": {},
   "outputs": [],
   "source": [
    "def update_action_counts():\n",
    "\n",
    "    # Run Times\n",
    "    #   3m 25.9s (first run, no improvements)\n",
    "    #   3m 13.5s (second rum, no improvements)\n",
    "    #   3m 3.9s (first run, added #2)\n",
    "    #   2m 59.9s (second run ,added #2)\n",
    "    #   3m 28.9s (first run, added #1,#2)\n",
    "\n",
    "    # Lets run some performance tests\n",
    "\n",
    "    # Do we need to\n",
    "    #   1. not use a for-loop -> map?(No), list comprehension(slower)\n",
    "    #   2. use Python's filter function to get counts?\n",
    "    def count_iterable(i):\n",
    "        return sum(1 for e in i)\n",
    "    #   3. Batch the updates\n",
    "    #   4. check when the last update was (ID of what day) and update counts on days greater than last update\n",
    "    \n",
    "    # Get all actions (This will need to be changed as run time is 3m 25.9s)\n",
    "    actions = get_all(pocket.get_actions,{})\n",
    "    # Get all days\n",
    "    days = get_all(pocket.get_days,{})\n",
    "\n",
    "    # [pocket.patch_action(id=action['id'],json={\"total_count\": count_iterable(filter(lambda y: y['action'] == action['id'], days))}) for action in actions]\n",
    "\n",
    "    # Loop through all actions and filter days by their action IDs. (Filter in Python?)\n",
    "    for action in actions:\n",
    "        id = action['id']\n",
    "        name = action['action']\n",
    "        # action_count = len(get_all(pocket.get_days,{'filter': f'action=\"{id}\"'}))\n",
    "        action_count = count_iterable(filter(lambda x: x['action'] == id, days))\n",
    "        pocket.patch_action(id=id,json={\"total_count\": action_count})\n"
   ]
  },
  {
   "cell_type": "code",
   "execution_count": 7,
   "metadata": {},
   "outputs": [],
   "source": [
    "def unknown_function():\n",
    "    old_text = \"’\"\n",
    "    old_actions = pocket.get_actions(params={'filter': f'action~\"{old_text}\"'},full=False)\n",
    "    new_text = \"'\"\n",
    "    new_actions = pocket.get_actions({'filter': f'action~\"{new_text}\"'},full=False)\n",
    "\n",
    "    for key in list(old_actions.keys()):\n",
    "        old_id = old_actions[key]\n",
    "        new_id = new_actions[key.replace(old_text, new_text)]\n",
    "        days = pocket.get_days(params={'filter': f'action=\"{old_id}\"'}, full=True).json()['items']\n",
    "        for day in days:\n",
    "            pocket.patch_day(id=day['id'],json={'action': new_id})"
   ]
  },
  {
   "cell_type": "code",
   "execution_count": 8,
   "metadata": {},
   "outputs": [],
   "source": [
    "level_one = pocket.get_levels('level_one',params={},full=False)"
   ]
  },
  {
   "cell_type": "code",
   "execution_count": 9,
   "metadata": {},
   "outputs": [],
   "source": [
    "breakdown = {}\n",
    "for cat in list(level_one.keys()):\n",
    "    breakdown[cat] = sum(map(lambda x: x['total_count'], get_all(pocket.get_actions,params={'filter': f'level_one.classification=\"{cat}\"'})))"
   ]
  },
  {
   "cell_type": "code",
   "execution_count": 11,
   "metadata": {},
   "outputs": [
    {
     "data": {
      "text/plain": [
       "{'Sleep': 5119, 'Work': 5894, 'Life': 3903, 'Food': 770, 'Unknown': 1782}"
      ]
     },
     "execution_count": 11,
     "metadata": {},
     "output_type": "execute_result"
    }
   ],
   "source": [
    "breakdown"
   ]
  },
  {
   "cell_type": "code",
   "execution_count": 13,
   "metadata": {},
   "outputs": [],
   "source": [
    "# Helper function\n",
    "def count_to_time(count: int):\n",
    "    time = f\"{int(count // (4))} hours, {int(((count % (4))/(4))*(60))} minutes\"\n",
    "    return time"
   ]
  },
  {
   "cell_type": "code",
   "execution_count": 18,
   "metadata": {},
   "outputs": [],
   "source": [
    "# time_spent(data) will return a dictionary with the values mapped from counts to total time spent\n",
    "def time_spent(data: dict):\n",
    "    return {k: count_to_time(v) for k, v in data.items()} "
   ]
  },
  {
   "cell_type": "code",
   "execution_count": 19,
   "metadata": {},
   "outputs": [],
   "source": [
    "def average_day(data: dict):\n",
    "    total = sum(data.values())\n",
    "    fractions = {k: (v/total)*96 for k, v in data.items()}\n",
    "    return time_spent(fractions)"
   ]
  },
  {
   "cell_type": "code",
   "execution_count": 20,
   "metadata": {},
   "outputs": [
    {
     "data": {
      "text/plain": [
       "{'Sleep': '1279 hours, 45 minutes',\n",
       " 'Work': '1473 hours, 30 minutes',\n",
       " 'Life': '975 hours, 45 minutes',\n",
       " 'Food': '192 hours, 30 minutes',\n",
       " 'Unknown': '445 hours, 30 minutes'}"
      ]
     },
     "execution_count": 20,
     "metadata": {},
     "output_type": "execute_result"
    }
   ],
   "source": [
    "time_spent(breakdown)"
   ]
  },
  {
   "cell_type": "code",
   "execution_count": 21,
   "metadata": {},
   "outputs": [
    {
     "data": {
      "text/plain": [
       "{'Sleep': '7 hours, 1 minutes',\n",
       " 'Work': '8 hours, 5 minutes',\n",
       " 'Life': '5 hours, 21 minutes',\n",
       " 'Food': '1 hours, 3 minutes',\n",
       " 'Unknown': '2 hours, 26 minutes'}"
      ]
     },
     "execution_count": 21,
     "metadata": {},
     "output_type": "execute_result"
    }
   ],
   "source": [
    "average_day(breakdown)"
   ]
  },
  {
   "cell_type": "code",
   "execution_count": 22,
   "metadata": {},
   "outputs": [],
   "source": [
    "import datetime"
   ]
  },
  {
   "cell_type": "code",
   "execution_count": 56,
   "metadata": {},
   "outputs": [],
   "source": [
    "# select_time_range(start,end,filter,expand) will return a list of days betweem `start` and \n",
    "# `end` (inclusive start, exclusive end). `filter` is a list of filter parameters for the GET\n",
    "# request.\n",
    "def select_time_range(start: datetime.datetime, end: datetime.datetime, filter: list, expand: str):\n",
    "\n",
    "    start_UTC = pocket.to_UTC(start, text=True)\n",
    "    end_UTC = pocket.to_UTC(end, text=True)\n",
    "\n",
    "    params = {}\n",
    "    # Adding filter parameters\n",
    "    filters = [f'(date>=\"{start_UTC}\")', f'(date<\"{end_UTC}\")'] + filter\n",
    "    params.update({'filter': ' && '.join(filters)})\n",
    "    # Adding expand parameters\n",
    "    params.update({'expand': expand})\n",
    "\n",
    "    days = get_all(pocket.get_days, params=params)\n",
    "    return days"
   ]
  },
  {
   "cell_type": "code",
   "execution_count": 60,
   "metadata": {},
   "outputs": [],
   "source": [
    "# level_two_by_week(start,end,classification) will return a list of tuples. These tuples\n",
    "# are the start dates, end dates, and counts of `classification` as level two over the 7-day \n",
    "# periods between `start` and `end`. 7-day periods are made to start on Monday.\n",
    "def level_two_by_week(start:datetime.datetime,end:datetime.datetime,classification:str):\n",
    "\n",
    "    counts = []\n",
    "    check_date = start\n",
    "\n",
    "    if (start.weekday() != 0):\n",
    "        weekday = start.weekday()\n",
    "        check_date = start + datetime.timedelta(days=weekday)\n",
    "        count = select_time_range(\n",
    "            start=start,\n",
    "            end=check_date,\n",
    "            filter=[f'(action.level_two.classification=\"{classification}\")'],\n",
    "            expand='')\n",
    "        counts.append((start,check_date,len(count)))\n",
    "\n",
    "    while(check_date < end):\n",
    "\n",
    "        count = select_time_range(\n",
    "            start=check_date,\n",
    "            end=check_date + datetime.timedelta(days=7),\n",
    "            filter=[f'(action.level_two.classification=\"{classification}\")'],\n",
    "            expand='')\n",
    "        counts.append((check_date,check_date + datetime.timedelta(days=7),len(count)))\n",
    "        check_date = check_date + datetime.timedelta(days=7)\n",
    "\n",
    "    check_date = check_date - datetime.timedelta(days=7)\n",
    "    count = select_time_range(\n",
    "            start=check_date,\n",
    "            end=end,\n",
    "            filter=[f'(action.level_two.classification=\"{classification}\")'],\n",
    "            expand='')\n",
    "    counts.append((check_date,end,len(count)))\n",
    "\n",
    "    return counts"
   ]
  },
  {
   "cell_type": "code",
   "execution_count": 61,
   "metadata": {},
   "outputs": [
    {
     "data": {
      "text/plain": [
       "723"
      ]
     },
     "execution_count": 61,
     "metadata": {},
     "output_type": "execute_result"
    }
   ],
   "source": [
    "start_date = datetime.datetime(year=2021,month=8,day=1)\n",
    "end_date = datetime.datetime(year=2021,month=12,day=30)\n",
    "\n",
    "start = pocket.create_eastern_datetime(start_date, '06:00')\n",
    "end = pocket.create_eastern_datetime(end_date, '21:00')\n",
    "\n",
    "len(select_time_range(\n",
    "            start=start,\n",
    "            end=end,\n",
    "            filter=[f'(action.level_two.classification=\"Pi Kappa Alpha\")'],\n",
    "            expand=''))"
   ]
  },
  {
   "cell_type": "code",
   "execution_count": 62,
   "metadata": {},
   "outputs": [
    {
     "data": {
      "text/plain": [
       "[(datetime.datetime(2021, 8, 1, 6, 0, tzinfo=datetime.timezone(datetime.timedelta(days=-1, seconds=72000), 'EDT')),\n",
       "  datetime.datetime(2021, 8, 7, 6, 0, tzinfo=datetime.timezone(datetime.timedelta(days=-1, seconds=72000), 'EDT')),\n",
       "  0),\n",
       " (datetime.datetime(2021, 8, 7, 6, 0, tzinfo=datetime.timezone(datetime.timedelta(days=-1, seconds=72000), 'EDT')),\n",
       "  datetime.datetime(2021, 8, 14, 6, 0, tzinfo=datetime.timezone(datetime.timedelta(days=-1, seconds=72000), 'EDT')),\n",
       "  0),\n",
       " (datetime.datetime(2021, 8, 14, 6, 0, tzinfo=datetime.timezone(datetime.timedelta(days=-1, seconds=72000), 'EDT')),\n",
       "  datetime.datetime(2021, 8, 21, 6, 0, tzinfo=datetime.timezone(datetime.timedelta(days=-1, seconds=72000), 'EDT')),\n",
       "  0),\n",
       " (datetime.datetime(2021, 8, 21, 6, 0, tzinfo=datetime.timezone(datetime.timedelta(days=-1, seconds=72000), 'EDT')),\n",
       "  datetime.datetime(2021, 8, 28, 6, 0, tzinfo=datetime.timezone(datetime.timedelta(days=-1, seconds=72000), 'EDT')),\n",
       "  0),\n",
       " (datetime.datetime(2021, 8, 28, 6, 0, tzinfo=datetime.timezone(datetime.timedelta(days=-1, seconds=72000), 'EDT')),\n",
       "  datetime.datetime(2021, 9, 4, 6, 0, tzinfo=datetime.timezone(datetime.timedelta(days=-1, seconds=72000), 'EDT')),\n",
       "  14),\n",
       " (datetime.datetime(2021, 9, 4, 6, 0, tzinfo=datetime.timezone(datetime.timedelta(days=-1, seconds=72000), 'EDT')),\n",
       "  datetime.datetime(2021, 9, 11, 6, 0, tzinfo=datetime.timezone(datetime.timedelta(days=-1, seconds=72000), 'EDT')),\n",
       "  10),\n",
       " (datetime.datetime(2021, 9, 11, 6, 0, tzinfo=datetime.timezone(datetime.timedelta(days=-1, seconds=72000), 'EDT')),\n",
       "  datetime.datetime(2021, 9, 18, 6, 0, tzinfo=datetime.timezone(datetime.timedelta(days=-1, seconds=72000), 'EDT')),\n",
       "  14),\n",
       " (datetime.datetime(2021, 9, 18, 6, 0, tzinfo=datetime.timezone(datetime.timedelta(days=-1, seconds=72000), 'EDT')),\n",
       "  datetime.datetime(2021, 9, 25, 6, 0, tzinfo=datetime.timezone(datetime.timedelta(days=-1, seconds=72000), 'EDT')),\n",
       "  19),\n",
       " (datetime.datetime(2021, 9, 25, 6, 0, tzinfo=datetime.timezone(datetime.timedelta(days=-1, seconds=72000), 'EDT')),\n",
       "  datetime.datetime(2021, 10, 2, 6, 0, tzinfo=datetime.timezone(datetime.timedelta(days=-1, seconds=72000), 'EDT')),\n",
       "  5),\n",
       " (datetime.datetime(2021, 10, 2, 6, 0, tzinfo=datetime.timezone(datetime.timedelta(days=-1, seconds=72000), 'EDT')),\n",
       "  datetime.datetime(2021, 10, 9, 6, 0, tzinfo=datetime.timezone(datetime.timedelta(days=-1, seconds=72000), 'EDT')),\n",
       "  51),\n",
       " (datetime.datetime(2021, 10, 9, 6, 0, tzinfo=datetime.timezone(datetime.timedelta(days=-1, seconds=72000), 'EDT')),\n",
       "  datetime.datetime(2021, 10, 16, 6, 0, tzinfo=datetime.timezone(datetime.timedelta(days=-1, seconds=72000), 'EDT')),\n",
       "  5),\n",
       " (datetime.datetime(2021, 10, 16, 6, 0, tzinfo=datetime.timezone(datetime.timedelta(days=-1, seconds=72000), 'EDT')),\n",
       "  datetime.datetime(2021, 10, 23, 6, 0, tzinfo=datetime.timezone(datetime.timedelta(days=-1, seconds=72000), 'EDT')),\n",
       "  11),\n",
       " (datetime.datetime(2021, 10, 23, 6, 0, tzinfo=datetime.timezone(datetime.timedelta(days=-1, seconds=72000), 'EDT')),\n",
       "  datetime.datetime(2021, 10, 30, 6, 0, tzinfo=datetime.timezone(datetime.timedelta(days=-1, seconds=72000), 'EDT')),\n",
       "  36),\n",
       " (datetime.datetime(2021, 10, 30, 6, 0, tzinfo=datetime.timezone(datetime.timedelta(days=-1, seconds=72000), 'EDT')),\n",
       "  datetime.datetime(2021, 11, 6, 6, 0, tzinfo=datetime.timezone(datetime.timedelta(days=-1, seconds=72000), 'EDT')),\n",
       "  11),\n",
       " (datetime.datetime(2021, 11, 6, 6, 0, tzinfo=datetime.timezone(datetime.timedelta(days=-1, seconds=72000), 'EDT')),\n",
       "  datetime.datetime(2021, 11, 13, 6, 0, tzinfo=datetime.timezone(datetime.timedelta(days=-1, seconds=72000), 'EDT')),\n",
       "  42),\n",
       " (datetime.datetime(2021, 11, 13, 6, 0, tzinfo=datetime.timezone(datetime.timedelta(days=-1, seconds=72000), 'EDT')),\n",
       "  datetime.datetime(2021, 11, 20, 6, 0, tzinfo=datetime.timezone(datetime.timedelta(days=-1, seconds=72000), 'EDT')),\n",
       "  102),\n",
       " (datetime.datetime(2021, 11, 20, 6, 0, tzinfo=datetime.timezone(datetime.timedelta(days=-1, seconds=72000), 'EDT')),\n",
       "  datetime.datetime(2021, 11, 27, 6, 0, tzinfo=datetime.timezone(datetime.timedelta(days=-1, seconds=72000), 'EDT')),\n",
       "  0),\n",
       " (datetime.datetime(2021, 11, 27, 6, 0, tzinfo=datetime.timezone(datetime.timedelta(days=-1, seconds=72000), 'EDT')),\n",
       "  datetime.datetime(2021, 12, 4, 6, 0, tzinfo=datetime.timezone(datetime.timedelta(days=-1, seconds=72000), 'EDT')),\n",
       "  0),\n",
       " (datetime.datetime(2021, 12, 4, 6, 0, tzinfo=datetime.timezone(datetime.timedelta(days=-1, seconds=72000), 'EDT')),\n",
       "  datetime.datetime(2021, 12, 11, 6, 0, tzinfo=datetime.timezone(datetime.timedelta(days=-1, seconds=72000), 'EDT')),\n",
       "  0),\n",
       " (datetime.datetime(2021, 12, 11, 6, 0, tzinfo=datetime.timezone(datetime.timedelta(days=-1, seconds=72000), 'EDT')),\n",
       "  datetime.datetime(2021, 12, 18, 6, 0, tzinfo=datetime.timezone(datetime.timedelta(days=-1, seconds=72000), 'EDT')),\n",
       "  0),\n",
       " (datetime.datetime(2021, 12, 18, 6, 0, tzinfo=datetime.timezone(datetime.timedelta(days=-1, seconds=72000), 'EDT')),\n",
       "  datetime.datetime(2021, 12, 25, 6, 0, tzinfo=datetime.timezone(datetime.timedelta(days=-1, seconds=72000), 'EDT')),\n",
       "  0),\n",
       " (datetime.datetime(2021, 12, 25, 6, 0, tzinfo=datetime.timezone(datetime.timedelta(days=-1, seconds=72000), 'EDT')),\n",
       "  datetime.datetime(2022, 1, 1, 6, 0, tzinfo=datetime.timezone(datetime.timedelta(days=-1, seconds=72000), 'EDT')),\n",
       "  0),\n",
       " (datetime.datetime(2021, 12, 25, 6, 0, tzinfo=datetime.timezone(datetime.timedelta(days=-1, seconds=72000), 'EDT')),\n",
       "  datetime.datetime(2021, 12, 30, 21, 0, tzinfo=datetime.timezone(datetime.timedelta(days=-1, seconds=68400), 'EST')),\n",
       "  0)]"
      ]
     },
     "execution_count": 62,
     "metadata": {},
     "output_type": "execute_result"
    }
   ],
   "source": [
    "level_two_by_week(start=start,end=end,classification='GOVT 3112')"
   ]
  },
  {
   "cell_type": "code",
   "execution_count": null,
   "metadata": {},
   "outputs": [],
   "source": []
  }
 ],
 "metadata": {
  "kernelspec": {
   "display_name": ".venv",
   "language": "python",
   "name": "python3"
  },
  "language_info": {
   "codemirror_mode": {
    "name": "ipython",
    "version": 3
   },
   "file_extension": ".py",
   "mimetype": "text/x-python",
   "name": "python",
   "nbconvert_exporter": "python",
   "pygments_lexer": "ipython3",
   "version": "3.11.1"
  },
  "orig_nbformat": 4,
  "vscode": {
   "interpreter": {
    "hash": "fe57bcbf9df45ab311c538a2573c53d1e6c2171079d3a8b9afd38917add09bb5"
   }
  }
 },
 "nbformat": 4,
 "nbformat_minor": 2
}
