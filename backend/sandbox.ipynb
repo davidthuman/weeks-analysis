{
 "cells": [
  {
   "attachments": {},
   "cell_type": "markdown",
   "metadata": {},
   "source": [
    "Processing Database"
   ]
  },
  {
   "cell_type": "code",
   "execution_count": 2,
   "metadata": {},
   "outputs": [],
   "source": [
    "import src.notion_API as notion\n",
    "import src.pocketbase_API as pocket\n",
    "from typing import  Callable"
   ]
  },
  {
   "cell_type": "code",
   "execution_count": 3,
   "metadata": {},
   "outputs": [],
   "source": [
    "def get_all(getFunction: Callable[[dict, bool], any], params: dict):\n",
    "\n",
    "    all_params = {'perPage': 500}\n",
    "    all_params.update(params)\n",
    "    first = getFunction(all_params, full=True).json()\n",
    "    items = first['items']\n",
    "    for page in range(1,first['totalPages']):\n",
    "        all_params.update({'page': (page+1)})\n",
    "        output = getFunction(all_params, full=True).json()\n",
    "        items = items + output['items']\n",
    "\n",
    "    return items"
   ]
  },
  {
   "cell_type": "code",
   "execution_count": 14,
   "metadata": {},
   "outputs": [],
   "source": [
    "def update_action_counts():\n",
    "\n",
    "    # Run Times\n",
    "    #   3m 25.9s (first run, no improvements)\n",
    "    #   3m 13.5s (second rum, no improvements)\n",
    "    #   3m 3.9s (first run, added #2)\n",
    "    #   2m 59.9s (second run ,added #2)\n",
    "    #   3m 28.9s (first run, added #1,#2)\n",
    "\n",
    "    # Lets run some performance tests\n",
    "\n",
    "    # Do we need to\n",
    "    #   1. not use a for-loop -> map?(No), list comprehension(slower)\n",
    "    #   2. use Python's filter function to get counts?\n",
    "    def count_iterable(i):\n",
    "        return sum(1 for e in i)\n",
    "    #   3. Batch the updates\n",
    "    #   4. check when the last update was (ID of what day) and update counts on days greater than last update\n",
    "    \n",
    "    # Get all actions (This will need to be changed as run time is 3m 25.9s)\n",
    "    actions = get_all(pocket.get_actions,{})\n",
    "    # Get all days\n",
    "    days = get_all(pocket.get_days,{})\n",
    "\n",
    "    # [pocket.patch_action(id=action['id'],json={\"total_count\": count_iterable(filter(lambda y: y['action'] == action['id'], days))}) for action in actions]\n",
    "\n",
    "    # Loop through all actions and filter days by their action IDs. (Filter in Python?)\n",
    "    for action in actions:\n",
    "        id = action['id']\n",
    "        name = action['action']\n",
    "        # action_count = len(get_all(pocket.get_days,{'filter': f'action=\"{id}\"'}))\n",
    "        action_count = count_iterable(filter(lambda x: x['action'] == id, days))\n",
    "        pocket.patch_action(id=id,json={\"total_count\": action_count})\n"
   ]
  },
  {
   "cell_type": "code",
   "execution_count": 15,
   "metadata": {},
   "outputs": [],
   "source": [
    "update_action_counts()"
   ]
  },
  {
   "cell_type": "code",
   "execution_count": 12,
   "metadata": {},
   "outputs": [],
   "source": [
    "old_text = \"’\"\n",
    "old_actions = pocket.get_actions(params={'filter': f'action~\"{old_text}\"'},full=False)\n",
    "new_text = \"'\"\n",
    "new_actions = pocket.get_actions({'filter': f'action~\"{new_text}\"'},full=False)\n",
    "\n",
    "for key in list(old_actions.keys()):\n",
    "    old_id = old_actions[key]\n",
    "    new_id = new_actions[key.replace(old_text, new_text)]\n",
    "    days = pocket.get_days(params={'filter': f'action=\"{old_id}\"'}, full=True).json()['items']\n",
    "    for day in days:\n",
    "        pocket.patch_day(id=day['id'],json={'action': new_id})"
   ]
  },
  {
   "cell_type": "code",
   "execution_count": 20,
   "metadata": {},
   "outputs": [],
   "source": [
    "level_one = pocket.get_levels('level_one',params={},full=False)"
   ]
  },
  {
   "cell_type": "code",
   "execution_count": 28,
   "metadata": {},
   "outputs": [],
   "source": [
    "breakdown = {}\n",
    "for cat in list(level_one.keys()):\n",
    "    breakdown[cat] = sum(map(lambda x: x['total_count'], get_all(pocket.get_actions,params={'filter': f'level_one.classification=\"{cat}\"'})))"
   ]
  },
  {
   "cell_type": "code",
   "execution_count": 23,
   "metadata": {},
   "outputs": [
    {
     "data": {
      "text/plain": [
       "{'code': 400, 'message': 'Invalid filter parameters.', 'data': {}}"
      ]
     },
     "execution_count": 23,
     "metadata": {},
     "output_type": "execute_result"
    }
   ],
   "source": [
    "pocket.get_days(params={'filter': 'level_one=\"y17f3rgi6ttkw49\"'}).json()"
   ]
  },
  {
   "cell_type": "code",
   "execution_count": 29,
   "metadata": {},
   "outputs": [
    {
     "data": {
      "text/plain": [
       "{'Sleep': 5119, 'Work': 5894, 'Life': 3903, 'Food': 770, 'Unknown': 1782}"
      ]
     },
     "execution_count": 29,
     "metadata": {},
     "output_type": "execute_result"
    }
   ],
   "source": [
    "breakdown"
   ]
  },
  {
   "cell_type": "code",
   "execution_count": null,
   "metadata": {},
   "outputs": [],
   "source": []
  }
 ],
 "metadata": {
  "kernelspec": {
   "display_name": ".venv",
   "language": "python",
   "name": "python3"
  },
  "language_info": {
   "codemirror_mode": {
    "name": "ipython",
    "version": 3
   },
   "file_extension": ".py",
   "mimetype": "text/x-python",
   "name": "python",
   "nbconvert_exporter": "python",
   "pygments_lexer": "ipython3",
   "version": "3.11.1"
  },
  "orig_nbformat": 4,
  "vscode": {
   "interpreter": {
    "hash": "fe57bcbf9df45ab311c538a2573c53d1e6c2171079d3a8b9afd38917add09bb5"
   }
  }
 },
 "nbformat": 4,
 "nbformat_minor": 2
}
